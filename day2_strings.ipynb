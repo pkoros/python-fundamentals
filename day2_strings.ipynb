{
 "cells": [
  {
   "cell_type": "code",
   "execution_count": 1,
   "id": "b46be2e5",
   "metadata": {},
   "outputs": [
    {
     "name": "stdout",
     "output_type": "stream",
     "text": [
      "Panos\n",
      "Hello\n",
      "Hello Panos\n",
      "hahaha\n",
      "P\n",
      "s\n",
      "ano\n"
     ]
    }
   ],
   "source": [
    "# Strings: text inside quotes\n",
    "name = \"Panos\"\n",
    "greeting = 'Hello'\n",
    "\n",
    "print(name)\n",
    "print(greeting)\n",
    "\n",
    "# String concatenation (joining)\n",
    "print(greeting + \" \" + name)\n",
    "\n",
    "# Repetition\n",
    "print(\"ha\" * 3)\n",
    "\n",
    "# Indexing and slicing\n",
    "print(name[0])     # first letter\n",
    "print(name[-1])    # last letter\n",
    "print(name[1:4])   # letters 2 to 4\n"
   ]
  },
  {
   "cell_type": "code",
   "execution_count": 2,
   "id": "3375eff7",
   "metadata": {},
   "outputs": [
    {
     "name": "stdout",
     "output_type": "stream",
     "text": [
      "  python is fun!  \n",
      "  PYTHON IS FUN!  \n",
      "Python is FUN!\n",
      "  Python is powerful!  \n",
      "Does it start with P? False\n",
      "Does it contain 'is'? True\n"
     ]
    }
   ],
   "source": [
    "phrase = \"  Python is FUN!  \"\n",
    "\n",
    "# Useful methods\n",
    "print(phrase.lower())   # lowercase\n",
    "print(phrase.upper())   # uppercase\n",
    "print(phrase.strip())   # remove spaces\n",
    "print(phrase.replace(\"FUN\", \"powerful\"))\n",
    "print(\"Does it start with P?\", phrase.startswith(\"P\"))\n",
    "print(\"Does it contain 'is'?\", \"is\" in phrase)\n"
   ]
  },
  {
   "cell_type": "code",
   "execution_count": 1,
   "id": "ea811499",
   "metadata": {},
   "outputs": [
    {
     "data": {
      "application/vnd.jupyter.widget-view+json": {
       "model_id": "63a1eb5094a240c7a1825dfea2dbd54d",
       "version_major": 2,
       "version_minor": 0
      },
      "text/plain": [
       "interactive(children=(Text(value='Panos', description='name'), Output()), _dom_classes=('widget-interact',))"
      ]
     },
     "metadata": {},
     "output_type": "display_data"
    },
    {
     "data": {
      "text/plain": [
       "<function __main__.ask_name(name)>"
      ]
     },
     "execution_count": 1,
     "metadata": {},
     "output_type": "execute_result"
    }
   ],
   "source": [
    "from ipywidgets import interact\n",
    "\n",
    "def ask_name(name):\n",
    "    print(\"Nice to meet you, \" + name + \"!\")\n",
    "\n",
    "interact(ask_name, name=\"Panos\")\n"
   ]
  }
 ],
 "metadata": {
  "kernelspec": {
   "display_name": "base",
   "language": "python",
   "name": "python3"
  },
  "language_info": {
   "codemirror_mode": {
    "name": "ipython",
    "version": 3
   },
   "file_extension": ".py",
   "mimetype": "text/x-python",
   "name": "python",
   "nbconvert_exporter": "python",
   "pygments_lexer": "ipython3",
   "version": "3.13.5"
  }
 },
 "nbformat": 4,
 "nbformat_minor": 5
}
